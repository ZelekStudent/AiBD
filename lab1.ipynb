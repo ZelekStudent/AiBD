{
  "nbformat": 4,
  "nbformat_minor": 0,
  "metadata": {
    "colab": {
      "name": "ABD_Żelek.ipynb",
      "provenance": [],
      "collapsed_sections": []
    },
    "kernelspec": {
      "name": "python3",
      "display_name": "Python 3"
    },
    "language_info": {
      "name": "python"
    }
  },
  "cells": [
    {
      "cell_type": "markdown",
      "metadata": {
        "id": "39O3-hoG9wOy"
      },
      "source": [
        "**Mikołaj Żelek**"
      ]
    },
    {
      "cell_type": "markdown",
      "metadata": {
        "id": "vVsm_PrW58zE"
      },
      "source": [
        "**Zadanie 3**\n",
        "\n",
        "Zdefiniować funkcję y=x*x+5 oraz sporządzić wykresy dla argumentów z podanych przedziałów."
      ]
    },
    {
      "cell_type": "code",
      "metadata": {
        "id": "8rxIqsiPTQCl"
      },
      "source": [
        "import numpy as np\n",
        "import matplotlib.pyplot as plt\n",
        "import pandas as pd\n",
        "\n",
        "\n",
        "first = np.linspace(-1.0, 1.0)\n",
        "\n",
        "second = np.linspace(-6.0, 6.0)\n",
        "\n",
        "third = np.linspace(0.0, 5.0)\n",
        "\n",
        "def my_function(x):\n",
        "  return x*x+5\n"
      ],
      "execution_count": 5,
      "outputs": []
    },
    {
      "cell_type": "code",
      "metadata": {
        "colab": {
          "base_uri": "https://localhost:8080/",
          "height": 851
        },
        "id": "VoA2RzKvTrdf",
        "outputId": "69e68e46-e740-4051-80e7-9181b4050a84"
      },
      "source": [
        "\n",
        "\n",
        "plt.plot(my_function(first), 'o',label=\"y = x*x+5\")\n",
        "plt.title(\"Dla przedziału przedziału x=<-1,1>\")\n",
        "plt.xlabel(\"X\")\n",
        "plt.ylabel(\"Y\")\n",
        "plt.legend()\n",
        "plt.show()\n",
        "\n",
        "plt.plot(my_function(second), 'o',label=\"y = x*x+5\")\n",
        "plt.title(\"Dla przedziału przedziału x=<-6,6>\")\n",
        "plt.xlabel(\"X\")\n",
        "plt.ylabel(\"Y\")\n",
        "plt.legend()\n",
        "plt.show()\n",
        "\n",
        "plt.plot(my_function(third), 'o',label=\"y = x*x+5\")\n",
        "plt.title(\"Dla przedziału przedziału x=<0,5>\")\n",
        "plt.xlabel(\"X\")\n",
        "plt.ylabel(\"Y\")\n",
        "plt.legend()\n",
        "plt.show()"
      ],
      "execution_count": 32,
      "outputs": [
        {
          "output_type": "display_data",
          "data": {
            "image/png": "[encoded data removed]",
            "text/plain": [
              "<Figure size 432x288 with 1 Axes>"
            ]
          },
          "metadata": {
            "needs_background": "light"
          }
        },
        {
          "output_type": "display_data",
          "data": {
            "image/png": "[encoded data removed]",
            "text/plain": [
              "<Figure size 432x288 with 1 Axes>"
            ]
          },
          "metadata": {
            "needs_background": "light"
          }
        },
        {
          "output_type": "display_data",
          "data": {
            "image/png": "[encoded data removed]",
            "text/plain": [
              "<Figure size 432x288 with 1 Axes>"
            ]
          },
          "metadata": {
            "needs_background": "light"
          }
        }
      ]
    },
    {
      "cell_type": "markdown",
      "metadata": {
        "id": "U99yEp4N5zqq"
      },
      "source": [
        "**Zadanie 4**\n",
        "\n",
        "Utworzyć obiekt dataframe z danymi oraz przetestować działanie metod: info, describe, head."
      ]
    },
    {
      "cell_type": "code",
      "metadata": {
        "id": "zgpkafGcTrqL"
      },
      "source": [
        "d = {'name': [\"Mikolaj\", \"Patryk\", \"Dominik\", \"Jan\", \"Aleksander\"], 'surname': [\"Zelek\", \"Tomaszewksi\", \"Wozniak\", \"Kowalski\", \"Krawiec\"], 'age': [21, 22, 23, 24, 26], 'sex': [ \"male\", \"male\", \"male\", \"male\", \"male\"] }\n",
        "\n",
        "df = pd.DataFrame(data=d)"
      ],
      "execution_count": 9,
      "outputs": []
    },
    {
      "cell_type": "code",
      "metadata": {
        "colab": {
          "base_uri": "https://localhost:8080/",
          "height": 206
        },
        "id": "pH5RD_ne36ui",
        "outputId": "1087d884-9f15-42fe-c290-61180794101e"
      },
      "source": [
        "df"
      ],
      "execution_count": 10,
      "outputs": [
        {
          "output_type": "execute_result",
          "data": {
            "text/html": [
              "<div>\n",
              "<style scoped>\n",
              "    .dataframe tbody tr th:only-of-type {\n",
              "        vertical-align: middle;\n",
              "    }\n",
              "\n",
              "    .dataframe tbody tr th {\n",
              "        vertical-align: top;\n",
              "    }\n",
              "\n",
              "    .dataframe thead th {\n",
              "        text-align: right;\n",
              "    }\n",
              "</style>\n",
              "<table border=\"1\" class=\"dataframe\">\n",
              "  <thead>\n",
              "    <tr style=\"text-align: right;\">\n",
              "      <th></th>\n",
              "      <th>name</th>\n",
              "      <th>surname</th>\n",
              "      <th>age</th>\n",
              "      <th>sex</th>\n",
              "    </tr>\n",
              "  </thead>\n",
              "  <tbody>\n",
              "    <tr>\n",
              "      <th>0</th>\n",
              "      <td>Mikolaj</td>\n",
              "      <td>Zelek</td>\n",
              "      <td>21</td>\n",
              "      <td>male</td>\n",
              "    </tr>\n",
              "    <tr>\n",
              "      <th>1</th>\n",
              "      <td>Patryk</td>\n",
              "      <td>Tomaszewksi</td>\n",
              "      <td>22</td>\n",
              "      <td>male</td>\n",
              "    </tr>\n",
              "    <tr>\n",
              "      <th>2</th>\n",
              "      <td>Dominik</td>\n",
              "      <td>Wozniak</td>\n",
              "      <td>23</td>\n",
              "      <td>male</td>\n",
              "    </tr>\n",
              "    <tr>\n",
              "      <th>3</th>\n",
              "      <td>Jan</td>\n",
              "      <td>Kowalski</td>\n",
              "      <td>24</td>\n",
              "      <td>male</td>\n",
              "    </tr>\n",
              "    <tr>\n",
              "      <th>4</th>\n",
              "      <td>Aleksander</td>\n",
              "      <td>Krawiec</td>\n",
              "      <td>26</td>\n",
              "      <td>male</td>\n",
              "    </tr>\n",
              "  </tbody>\n",
              "</table>\n",
              "</div>"
            ],
            "text/plain": [
              "         name      surname  age   sex\n",
              "0     Mikolaj        Zelek   21  male\n",
              "1      Patryk  Tomaszewksi   22  male\n",
              "2     Dominik      Wozniak   23  male\n",
              "3         Jan     Kowalski   24  male\n",
              "4  Aleksander      Krawiec   26  male"
            ]
          },
          "metadata": {},
          "execution_count": 10
        }
      ]
    },
    {
      "cell_type": "markdown",
      "metadata": {
        "id": "EMA30DoS5niR"
      },
      "source": [
        "**Pandas info**"
      ]
    },
    {
      "cell_type": "code",
      "metadata": {
        "colab": {
          "base_uri": "https://localhost:8080/"
        },
        "id": "jbtmdxmU380O",
        "outputId": "dcb42f42-18e6-4820-fb9c-425eff1aadac"
      },
      "source": [
        "df.info()"
      ],
      "execution_count": 18,
      "outputs": [
        {
          "output_type": "stream",
          "name": "stdout",
          "text": [
            "<class 'pandas.core.frame.DataFrame'>\n",
            "RangeIndex: 5 entries, 0 to 4\n",
            "Data columns (total 4 columns):\n",
            " #   Column   Non-Null Count  Dtype \n",
            "---  ------   --------------  ----- \n",
            " 0   name     5 non-null      object\n",
            " 1   surname  5 non-null      object\n",
            " 2   age      5 non-null      int64 \n",
            " 3   sex      5 non-null      object\n",
            "dtypes: int64(1), object(3)\n",
            "memory usage: 288.0+ bytes\n"
          ]
        }
      ]
    },
    {
      "cell_type": "markdown",
      "metadata": {
        "id": "WT1YA40H5sx7"
      },
      "source": [
        "**Pandas describe**"
      ]
    },
    {
      "cell_type": "code",
      "metadata": {
        "colab": {
          "base_uri": "https://localhost:8080/",
          "height": 300
        },
        "id": "U6gf6qSv4DZf",
        "outputId": "5165fe04-9d88-4410-b7f7-a97000cbd9e5"
      },
      "source": [
        "df.describe()"
      ],
      "execution_count": 16,
      "outputs": [
        {
          "output_type": "execute_result",
          "data": {
            "text/html": [
              "<div>\n",
              "<style scoped>\n",
              "    .dataframe tbody tr th:only-of-type {\n",
              "        vertical-align: middle;\n",
              "    }\n",
              "\n",
              "    .dataframe tbody tr th {\n",
              "        vertical-align: top;\n",
              "    }\n",
              "\n",
              "    .dataframe thead th {\n",
              "        text-align: right;\n",
              "    }\n",
              "</style>\n",
              "<table border=\"1\" class=\"dataframe\">\n",
              "  <thead>\n",
              "    <tr style=\"text-align: right;\">\n",
              "      <th></th>\n",
              "      <th>age</th>\n",
              "    </tr>\n",
              "  </thead>\n",
              "  <tbody>\n",
              "    <tr>\n",
              "      <th>count</th>\n",
              "      <td>5.000000</td>\n",
              "    </tr>\n",
              "    <tr>\n",
              "      <th>mean</th>\n",
              "      <td>23.200000</td>\n",
              "    </tr>\n",
              "    <tr>\n",
              "      <th>std</th>\n",
              "      <td>1.923538</td>\n",
              "    </tr>\n",
              "    <tr>\n",
              "      <th>min</th>\n",
              "      <td>21.000000</td>\n",
              "    </tr>\n",
              "    <tr>\n",
              "      <th>25%</th>\n",
              "      <td>22.000000</td>\n",
              "    </tr>\n",
              "    <tr>\n",
              "      <th>50%</th>\n",
              "      <td>23.000000</td>\n",
              "    </tr>\n",
              "    <tr>\n",
              "      <th>75%</th>\n",
              "      <td>24.000000</td>\n",
              "    </tr>\n",
              "    <tr>\n",
              "      <th>max</th>\n",
              "      <td>26.000000</td>\n",
              "    </tr>\n",
              "  </tbody>\n",
              "</table>\n",
              "</div>"
            ],
            "text/plain": [
              "             age\n",
              "count   5.000000\n",
              "mean   23.200000\n",
              "std     1.923538\n",
              "min    21.000000\n",
              "25%    22.000000\n",
              "50%    23.000000\n",
              "75%    24.000000\n",
              "max    26.000000"
            ]
          },
          "metadata": {},
          "execution_count": 16
        }
      ]
    },
    {
      "cell_type": "markdown",
      "metadata": {
        "id": "trqWktSV5wE_"
      },
      "source": [
        "**Pandas head**"
      ]
    },
    {
      "cell_type": "code",
      "metadata": {
        "colab": {
          "base_uri": "https://localhost:8080/",
          "height": 206
        },
        "id": "DubsXrnu4DjH",
        "outputId": "d53ded6e-821e-44c4-c554-864114484cd1"
      },
      "source": [
        "df.head()"
      ],
      "execution_count": 17,
      "outputs": [
        {
          "output_type": "execute_result",
          "data": {
            "text/html": [
              "<div>\n",
              "<style scoped>\n",
              "    .dataframe tbody tr th:only-of-type {\n",
              "        vertical-align: middle;\n",
              "    }\n",
              "\n",
              "    .dataframe tbody tr th {\n",
              "        vertical-align: top;\n",
              "    }\n",
              "\n",
              "    .dataframe thead th {\n",
              "        text-align: right;\n",
              "    }\n",
              "</style>\n",
              "<table border=\"1\" class=\"dataframe\">\n",
              "  <thead>\n",
              "    <tr style=\"text-align: right;\">\n",
              "      <th></th>\n",
              "      <th>name</th>\n",
              "      <th>surname</th>\n",
              "      <th>age</th>\n",
              "      <th>sex</th>\n",
              "    </tr>\n",
              "  </thead>\n",
              "  <tbody>\n",
              "    <tr>\n",
              "      <th>0</th>\n",
              "      <td>Mikolaj</td>\n",
              "      <td>Zelek</td>\n",
              "      <td>21</td>\n",
              "      <td>male</td>\n",
              "    </tr>\n",
              "    <tr>\n",
              "      <th>1</th>\n",
              "      <td>Patryk</td>\n",
              "      <td>Tomaszewksi</td>\n",
              "      <td>22</td>\n",
              "      <td>male</td>\n",
              "    </tr>\n",
              "    <tr>\n",
              "      <th>2</th>\n",
              "      <td>Dominik</td>\n",
              "      <td>Wozniak</td>\n",
              "      <td>23</td>\n",
              "      <td>male</td>\n",
              "    </tr>\n",
              "    <tr>\n",
              "      <th>3</th>\n",
              "      <td>Jan</td>\n",
              "      <td>Kowalski</td>\n",
              "      <td>24</td>\n",
              "      <td>male</td>\n",
              "    </tr>\n",
              "    <tr>\n",
              "      <th>4</th>\n",
              "      <td>Aleksander</td>\n",
              "      <td>Krawiec</td>\n",
              "      <td>26</td>\n",
              "      <td>male</td>\n",
              "    </tr>\n",
              "  </tbody>\n",
              "</table>\n",
              "</div>"
            ],
            "text/plain": [
              "         name      surname  age   sex\n",
              "0     Mikolaj        Zelek   21  male\n",
              "1      Patryk  Tomaszewksi   22  male\n",
              "2     Dominik      Wozniak   23  male\n",
              "3         Jan     Kowalski   24  male\n",
              "4  Aleksander      Krawiec   26  male"
            ]
          },
          "metadata": {},
          "execution_count": 17
        }
      ]
    }
  ]
}